{
 "cells": [
  {
   "cell_type": "code",
   "execution_count": 19,
   "metadata": {},
   "outputs": [],
   "source": [
    "import tensorflow as tf\n",
    "from PIL import Image\n",
    "from tensorflow.keras import layers \n",
    "from sklearn.utils import shuffle \n",
    "import numpy as np \n",
    "import pandas as pd"
   ]
  },
  {
   "cell_type": "code",
   "execution_count": 24,
   "metadata": {},
   "outputs": [
    {
     "name": "stdout",
     "output_type": "stream",
     "text": [
      "Found 15000 files belonging to 15 classes.\n"
     ]
    }
   ],
   "source": [
    "data= tf.keras.utils.image_dataset_from_directory(\"Vegetable Images/train\",image_size=(32,32),color_mode=\"rgb\",batch_size=15000)"
   ]
  },
  {
   "cell_type": "code",
   "execution_count": 25,
   "metadata": {},
   "outputs": [
    {
     "data": {
      "text/plain": [
       "(224, 224)"
      ]
     },
     "execution_count": 25,
     "metadata": {},
     "output_type": "execute_result"
    }
   ],
   "source": [
    "img=Image.open(\"C:\\\\Users\\\\acer\\\\Desktop\\\\Suretrust\\\\Vegetable Images\\\\train\\\\Bean\\\\0026.jpg\")\n",
    "img.size"
   ]
  },
  {
   "cell_type": "code",
   "execution_count": 26,
   "metadata": {},
   "outputs": [
    {
     "name": "stdout",
     "output_type": "stream",
     "text": [
      "(15000, 32, 32, 3) (15000, 10)\n"
     ]
    }
   ],
   "source": [
    "for features,labels in data:\n",
    "    features= tf.divide(features,224)\n",
    "    labels= tf.one_hot(labels,10) \n",
    "    print(features.shape, labels.shape)"
   ]
  },
  {
   "cell_type": "code",
   "execution_count": 27,
   "metadata": {},
   "outputs": [],
   "source": [
    "model=tf.keras.Sequential([\n",
    "    layers.Conv2D(12,3,input_shape=(32,32,3)),\n",
    "    layers.MaxPool2D(),\n",
    "    layers.Conv2D(24,3,activation=\"leaky_relu\"),\n",
    "    layers.MaxPool2D(),\n",
    "    layers.Conv2D(48,3,activation=\"leaky_relu\"),\n",
    "    layers.MaxPool2D(),\n",
    "    layers.Flatten(),\n",
    "    layers.Dense(15),\n",
    "    layers.Activation(\"softmax\")])"
   ]
  },
  {
   "cell_type": "code",
   "execution_count": 28,
   "metadata": {},
   "outputs": [],
   "source": [
    "model.build(input_shape=(15000, 32,32, 3))"
   ]
  },
  {
   "cell_type": "code",
   "execution_count": 29,
   "metadata": {},
   "outputs": [
    {
     "name": "stdout",
     "output_type": "stream",
     "text": [
      "Model: \"sequential_2\"\n",
      "_________________________________________________________________\n",
      " Layer (type)                Output Shape              Param #   \n",
      "=================================================================\n",
      " conv2d_6 (Conv2D)           (None, 30, 30, 12)        336       \n",
      "                                                                 \n",
      " max_pooling2d_6 (MaxPooling  (None, 15, 15, 12)       0         \n",
      " 2D)                                                             \n",
      "                                                                 \n",
      " conv2d_7 (Conv2D)           (None, 13, 13, 24)        2616      \n",
      "                                                                 \n",
      " max_pooling2d_7 (MaxPooling  (None, 6, 6, 24)         0         \n",
      " 2D)                                                             \n",
      "                                                                 \n",
      " conv2d_8 (Conv2D)           (None, 4, 4, 48)          10416     \n",
      "                                                                 \n",
      " max_pooling2d_8 (MaxPooling  (None, 2, 2, 48)         0         \n",
      " 2D)                                                             \n",
      "                                                                 \n",
      " flatten_2 (Flatten)         (None, 192)               0         \n",
      "                                                                 \n",
      " dense_2 (Dense)             (None, 15)                2895      \n",
      "                                                                 \n",
      " activation_2 (Activation)   (None, 15)                0         \n",
      "                                                                 \n",
      "=================================================================\n",
      "Total params: 16,263\n",
      "Trainable params: 16,263\n",
      "Non-trainable params: 0\n",
      "_________________________________________________________________\n"
     ]
    }
   ],
   "source": [
    "model.summary()"
   ]
  },
  {
   "cell_type": "code",
   "execution_count": 34,
   "metadata": {},
   "outputs": [],
   "source": [
    "model.compile(\n",
    "    loss=tf.keras.losses.categorical_crossentropy,\n",
    "    optimizer=tf.keras.optimizers.Adam(0.001),\n",
    "    metrics=['accuracy']\n",
    " )"
   ]
  },
  {
   "cell_type": "code",
   "execution_count": null,
   "metadata": {},
   "outputs": [],
   "source": [
    "model.compile(optimizer= tf.keras.optimizers.SGD(learning_rate=0.01),loss=tf.keras.losses.categorical_crossentropy, metrics= [\"accuracy\"])"
   ]
  },
  {
   "cell_type": "code",
   "execution_count": 35,
   "metadata": {},
   "outputs": [
    {
     "name": "stdout",
     "output_type": "stream",
     "text": [
      "Epoch 1/50\n",
      "8/8 [==============================] - 24s 2s/step - loss: 2.6684 - accuracy: 0.1279\n",
      "Epoch 2/50\n",
      "8/8 [==============================] - 17s 2s/step - loss: 2.5285 - accuracy: 0.2021\n",
      "Epoch 3/50\n",
      "8/8 [==============================] - 11s 1s/step - loss: 2.2896 - accuracy: 0.2677\n",
      "Epoch 4/50\n",
      "8/8 [==============================] - 13s 2s/step - loss: 2.0456 - accuracy: 0.3335\n",
      "Epoch 5/50\n",
      "8/8 [==============================] - 12s 1s/step - loss: 1.8572 - accuracy: 0.3955\n",
      "Epoch 6/50\n",
      "8/8 [==============================] - 10s 1s/step - loss: 1.7217 - accuracy: 0.4400\n",
      "Epoch 7/50\n",
      "8/8 [==============================] - 10s 1s/step - loss: 1.6185 - accuracy: 0.4787\n",
      "Epoch 8/50\n",
      "8/8 [==============================] - 13s 2s/step - loss: 1.5350 - accuracy: 0.5055\n",
      "Epoch 9/50\n",
      "8/8 [==============================] - 10s 1s/step - loss: 1.4628 - accuracy: 0.5257\n",
      "Epoch 10/50\n",
      "8/8 [==============================] - 10s 1s/step - loss: 1.4106 - accuracy: 0.5395\n",
      "Epoch 11/50\n",
      "8/8 [==============================] - 10s 1s/step - loss: 1.3620 - accuracy: 0.5547\n",
      "Epoch 12/50\n",
      "8/8 [==============================] - 10s 1s/step - loss: 1.3145 - accuracy: 0.5711\n",
      "Epoch 13/50\n",
      "8/8 [==============================] - 11s 1s/step - loss: 1.2759 - accuracy: 0.5863\n",
      "Epoch 14/50\n",
      "8/8 [==============================] - 11s 1s/step - loss: 1.2409 - accuracy: 0.5999\n",
      "Epoch 15/50\n",
      "8/8 [==============================] - 10s 1s/step - loss: 1.2095 - accuracy: 0.6048\n",
      "Epoch 16/50\n",
      "8/8 [==============================] - 10s 1s/step - loss: 1.1713 - accuracy: 0.6222\n",
      "Epoch 17/50\n",
      "8/8 [==============================] - 11s 1s/step - loss: 1.1405 - accuracy: 0.6293\n",
      "Epoch 18/50\n",
      "8/8 [==============================] - 12s 1s/step - loss: 1.1044 - accuracy: 0.6419\n",
      "Epoch 19/50\n",
      "8/8 [==============================] - 11s 1s/step - loss: 1.0782 - accuracy: 0.6507\n",
      "Epoch 20/50\n",
      "8/8 [==============================] - 10s 1s/step - loss: 1.0502 - accuracy: 0.6614\n",
      "Epoch 21/50\n",
      "8/8 [==============================] - 11s 1s/step - loss: 1.0228 - accuracy: 0.6687\n",
      "Epoch 22/50\n",
      "8/8 [==============================] - 10s 1s/step - loss: 0.9962 - accuracy: 0.6776\n",
      "Epoch 23/50\n",
      "8/8 [==============================] - 10s 1s/step - loss: 0.9741 - accuracy: 0.6875\n",
      "Epoch 24/50\n",
      "8/8 [==============================] - 12s 2s/step - loss: 0.9516 - accuracy: 0.6959\n",
      "Epoch 25/50\n",
      "8/8 [==============================] - 11s 1s/step - loss: 0.9258 - accuracy: 0.7037\n",
      "Epoch 26/50\n",
      "8/8 [==============================] - 10s 1s/step - loss: 0.8989 - accuracy: 0.7099\n",
      "Epoch 27/50\n",
      "8/8 [==============================] - 12s 1s/step - loss: 0.8796 - accuracy: 0.7164\n",
      "Epoch 28/50\n",
      "8/8 [==============================] - 13s 2s/step - loss: 0.8607 - accuracy: 0.7227\n",
      "Epoch 29/50\n",
      "8/8 [==============================] - 10s 1s/step - loss: 0.8441 - accuracy: 0.7266\n",
      "Epoch 30/50\n",
      "8/8 [==============================] - 10s 1s/step - loss: 0.8290 - accuracy: 0.7373\n",
      "Epoch 31/50\n",
      "8/8 [==============================] - 11s 1s/step - loss: 0.8116 - accuracy: 0.7409\n",
      "Epoch 32/50\n",
      "8/8 [==============================] - 12s 2s/step - loss: 0.7906 - accuracy: 0.7495\n",
      "Epoch 33/50\n",
      "8/8 [==============================] - 10s 1s/step - loss: 0.7805 - accuracy: 0.7498\n",
      "Epoch 34/50\n",
      "8/8 [==============================] - 12s 1s/step - loss: 0.7643 - accuracy: 0.7583\n",
      "Epoch 35/50\n",
      "8/8 [==============================] - 13s 2s/step - loss: 0.7499 - accuracy: 0.7626\n",
      "Epoch 36/50\n",
      "8/8 [==============================] - 11s 1s/step - loss: 0.7340 - accuracy: 0.7652\n",
      "Epoch 37/50\n",
      "8/8 [==============================] - 10s 1s/step - loss: 0.7187 - accuracy: 0.7729\n",
      "Epoch 38/50\n",
      "8/8 [==============================] - 11s 1s/step - loss: 0.7029 - accuracy: 0.7792\n",
      "Epoch 39/50\n",
      "8/8 [==============================] - 11s 1s/step - loss: 0.7003 - accuracy: 0.7783\n",
      "Epoch 40/50\n",
      "8/8 [==============================] - 11s 1s/step - loss: 0.6901 - accuracy: 0.7794\n",
      "Epoch 41/50\n",
      "8/8 [==============================] - 11s 1s/step - loss: 0.6697 - accuracy: 0.7902\n",
      "Epoch 42/50\n",
      "8/8 [==============================] - 10s 1s/step - loss: 0.6682 - accuracy: 0.7903\n",
      "Epoch 43/50\n",
      "8/8 [==============================] - 11s 1s/step - loss: 0.6538 - accuracy: 0.7939\n",
      "Epoch 44/50\n",
      "8/8 [==============================] - 11s 1s/step - loss: 0.6430 - accuracy: 0.7961\n",
      "Epoch 45/50\n",
      "8/8 [==============================] - 13s 2s/step - loss: 0.6301 - accuracy: 0.8023\n",
      "Epoch 46/50\n",
      "8/8 [==============================] - 10s 1s/step - loss: 0.6223 - accuracy: 0.8037\n",
      "Epoch 47/50\n",
      "8/8 [==============================] - 9s 1s/step - loss: 0.6152 - accuracy: 0.8071\n",
      "Epoch 48/50\n",
      "8/8 [==============================] - 9s 1s/step - loss: 0.6078 - accuracy: 0.8097\n",
      "Epoch 49/50\n",
      "8/8 [==============================] - 10s 1s/step - loss: 0.6015 - accuracy: 0.8133\n",
      "Epoch 50/50\n",
      "8/8 [==============================] - 10s 1s/step - loss: 0.5877 - accuracy: 0.8160\n",
      "<keras.callbacks.History object at 0x000002314322C610>\n"
     ]
    }
   ],
   "source": [
    "for features,labels in data:\n",
    "    features= tf.divide(features,224)\n",
    "    labels= tf.one_hot(labels,15) \n",
    "    X= model.fit(features,labels,epochs=50, batch_size=2000)\n",
    "    print(X) "
   ]
  },
  {
   "cell_type": "code",
   "execution_count": null,
   "metadata": {},
   "outputs": [],
   "source": [
    "model=model.save(\"veg_pred.h5\",save_format=\"h5\")\n"
   ]
  },
  {
   "cell_type": "code",
   "execution_count": null,
   "metadata": {},
   "outputs": [],
   "source": [
    "model=tf.keras.models.load_model(\"satelite_img_pred.h5\")"
   ]
  }
 ],
 "metadata": {
  "kernelspec": {
   "display_name": "Python 3",
   "language": "python",
   "name": "python3"
  },
  "language_info": {
   "codemirror_mode": {
    "name": "ipython",
    "version": 3
   },
   "file_extension": ".py",
   "mimetype": "text/x-python",
   "name": "python",
   "nbconvert_exporter": "python",
   "pygments_lexer": "ipython3",
   "version": "3.10.8 (tags/v3.10.8:aaaf517, Oct 11 2022, 16:50:30) [MSC v.1933 64 bit (AMD64)]"
  },
  "orig_nbformat": 4,
  "vscode": {
   "interpreter": {
    "hash": "229cdfb8eedfa4964725b7eb0da8d7a63b25d97a6ab808f09bd6b506844c0629"
   }
  }
 },
 "nbformat": 4,
 "nbformat_minor": 2
}
