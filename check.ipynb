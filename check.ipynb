{
 "cells": [
  {
   "cell_type": "code",
   "execution_count": 66,
   "metadata": {},
   "outputs": [],
   "source": [
    "import tensorflow as tf\n",
    "from tensorflow.keras import layers\n",
    "#from PIL import Image\n",
    "import numpy as np"
   ]
  },
  {
   "cell_type": "code",
   "execution_count": 67,
   "metadata": {},
   "outputs": [],
   "source": [
    "model=tf.keras.models.load_model(\"C:\\\\Users\\\\acer\\\\Desktop\\\\Suretrust\\\\veg_pred.h5\")\n",
    "classes = [\n",
    "    \"Bean\",\n",
    "    \"Bitter_Gourd\",\n",
    "    \"Bottle_Gourd\",\n",
    "    \"Brinjal\",\n",
    "    \"Broccoli\",\n",
    "    \"Cabbage\",\n",
    "    \"Capsicum\",\n",
    "    \"Carrot\",\n",
    "    \"Cauliflower\",\n",
    "    \"Cucumber\",\n",
    "    \"Papaya\",\n",
    "    \"Potato\",\n",
    "    \"Pumpkin\",\n",
    "    \"Radish\",\n",
    "    \"Tomato\"\n",
    "\n",
    "]\n"
   ]
  },
  {
   "cell_type": "code",
   "execution_count": 68,
   "metadata": {},
   "outputs": [
    {
     "name": "stdout",
     "output_type": "stream",
     "text": [
      "Model: \"sequential_2\"\n",
      "_________________________________________________________________\n",
      " Layer (type)                Output Shape              Param #   \n",
      "=================================================================\n",
      " conv2d_6 (Conv2D)           (None, 30, 30, 12)        336       \n",
      "                                                                 \n",
      " max_pooling2d_6 (MaxPooling  (None, 15, 15, 12)       0         \n",
      " 2D)                                                             \n",
      "                                                                 \n",
      " conv2d_7 (Conv2D)           (None, 13, 13, 24)        2616      \n",
      "                                                                 \n",
      " max_pooling2d_7 (MaxPooling  (None, 6, 6, 24)         0         \n",
      " 2D)                                                             \n",
      "                                                                 \n",
      " conv2d_8 (Conv2D)           (None, 4, 4, 48)          10416     \n",
      "                                                                 \n",
      " max_pooling2d_8 (MaxPooling  (None, 2, 2, 48)         0         \n",
      " 2D)                                                             \n",
      "                                                                 \n",
      " flatten_2 (Flatten)         (None, 192)               0         \n",
      "                                                                 \n",
      " dense_2 (Dense)             (None, 15)                2895      \n",
      "                                                                 \n",
      " activation_2 (Activation)   (None, 15)                0         \n",
      "                                                                 \n",
      "=================================================================\n",
      "Total params: 16,263\n",
      "Trainable params: 16,263\n",
      "Non-trainable params: 0\n",
      "_________________________________________________________________\n"
     ]
    }
   ],
   "source": [
    "model.summary()"
   ]
  },
  {
   "cell_type": "code",
   "execution_count": 76,
   "metadata": {},
   "outputs": [
    {
     "data": {
      "image/png": "[encoded data removed]",
      "text/plain": [
       "<PIL.Image.Image image mode=RGB size=32x32>"
      ]
     },
     "execution_count": 76,
     "metadata": {},
     "output_type": "execute_result"
    }
   ],
   "source": [
    "img=Image.open(\"C:\\\\Users\\\\acer\\\\Desktop\\\\Suretrust\\\\Vegetable Images\\\\test\\\\Bitter_Gourd\\\\1201.jpg\")\n",
    "img=img.resize((32,32))\n",
    "img"
   ]
  },
  {
   "cell_type": "code",
   "execution_count": 74,
   "metadata": {},
   "outputs": [],
   "source": [
    "def Pred(final):\n",
    "  img = Image.open(final)\n",
    "  img = img.resize((32,32))\n",
    "  test = tf.reshape(tf.constant(np.array(img)/255), (-1,32,32,3))\n",
    "  preds = model.predict(test, verbose=False)[0]*100\n",
    "  preds = tf.math.round(preds)\n",
    "  confidence = tf.reduce_max(preds)\n",
    "  index = int(tf.where(preds == confidence)[0][0])\n",
    "  pred = classes[index]\n",
    "  print(\"The predicted vegetable is\", pred.title() ,\"and my confidence is\", int(confidence))\n"
   ]
  },
  {
   "cell_type": "code",
   "execution_count": 83,
   "metadata": {},
   "outputs": [
    {
     "name": "stdout",
     "output_type": "stream",
     "text": [
      "The predicted vegetable is Bean and my confidence is 45\n"
     ]
    }
   ],
   "source": [
    "Pred(\"C:\\\\Users\\\\acer\\\\Desktop\\\\Suretrust\\\\Vegetable Images\\\\test\\\\Tomato\\\\1030.jpg\")"
   ]
  },
  {
   "cell_type": "code",
   "execution_count": null,
   "metadata": {},
   "outputs": [],
   "source": []
  }
 ],
 "metadata": {
  "kernelspec": {
   "display_name": "Python 3",
   "language": "python",
   "name": "python3"
  },
  "language_info": {
   "codemirror_mode": {
    "name": "ipython",
    "version": 3
   },
   "file_extension": ".py",
   "mimetype": "text/x-python",
   "name": "python",
   "nbconvert_exporter": "python",
   "pygments_lexer": "ipython3",
   "version": "3.10.8"
  },
  "orig_nbformat": 4,
  "vscode": {
   "interpreter": {
    "hash": "229cdfb8eedfa4964725b7eb0da8d7a63b25d97a6ab808f09bd6b506844c0629"
   }
  }
 },
 "nbformat": 4,
 "nbformat_minor": 2
}
